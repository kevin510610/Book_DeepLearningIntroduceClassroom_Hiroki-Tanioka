{
 "metadata": {
  "language_info": {
   "codemirror_mode": {
    "name": "ipython",
    "version": 3
   },
   "file_extension": ".py",
   "mimetype": "text/x-python",
   "name": "python",
   "nbconvert_exporter": "python",
   "pygments_lexer": "ipython3",
   "version": "3.8.8"
  },
  "orig_nbformat": 2,
  "kernelspec": {
   "name": "python388jvsc74a57bd01be61a1583a2cb2b13e440a2aaa1981b12c2212d6adb327f2a8e80ed33dd9191",
   "display_name": "Python 3.8.8 64-bit ('datasci': conda)"
  }
 },
 "nbformat": 4,
 "nbformat_minor": 2,
 "cells": [
  {
   "cell_type": "code",
   "execution_count": 4,
   "metadata": {},
   "outputs": [
    {
     "output_type": "execute_result",
     "data": {
      "text/plain": [
       "<IPython.core.display.SVG object>"
      ],
      "image/svg+xml": "<svg xmlns=\"http://www.w3.org/2000/svg\" xmlns:xlink=\"http://www.w3.org/1999/xlink\" width=\"315pt\" height=\"296pt\" viewBox=\"0.00 0.00 324.00 304.00\">\n<g id=\"graph0\" class=\"graph\" transform=\"scale(0.97 0.97) rotate(0) translate(4 300)\">\n<title>G</title>\n<polygon fill=\"white\" stroke=\"transparent\" points=\"-4,4 -4,-300 320,-300 320,4 -4,4\"/>\n<!-- 140592569230240 -->\n<g id=\"node1\" class=\"node\">\n<title>140592569230240</title>\n<polygon fill=\"none\" stroke=\"black\" points=\"0,-249.5 0,-295.5 316,-295.5 316,-249.5 0,-249.5\"/>\n<text text-anchor=\"middle\" x=\"89\" y=\"-268.8\" font-family=\"Times,serif\" font-size=\"14.00\">Conv2D_1_input: InputLayer</text>\n<polyline fill=\"none\" stroke=\"black\" points=\"178,-249.5 178,-295.5 \"/>\n<text text-anchor=\"middle\" x=\"205.5\" y=\"-280.3\" font-family=\"Times,serif\" font-size=\"14.00\">input:</text>\n<polyline fill=\"none\" stroke=\"black\" points=\"178,-272.5 233,-272.5 \"/>\n<text text-anchor=\"middle\" x=\"205.5\" y=\"-257.3\" font-family=\"Times,serif\" font-size=\"14.00\">output:</text>\n<polyline fill=\"none\" stroke=\"black\" points=\"233,-249.5 233,-295.5 \"/>\n<text text-anchor=\"middle\" x=\"274.5\" y=\"-280.3\" font-family=\"Times,serif\" font-size=\"14.00\">[(?, 6, 6, 1)]</text>\n<polyline fill=\"none\" stroke=\"black\" points=\"233,-272.5 316,-272.5 \"/>\n<text text-anchor=\"middle\" x=\"274.5\" y=\"-257.3\" font-family=\"Times,serif\" font-size=\"14.00\">[(?, 6, 6, 1)]</text>\n</g>\n<!-- 140592569785312 -->\n<g id=\"node2\" class=\"node\">\n<title>140592569785312</title>\n<polygon fill=\"none\" stroke=\"black\" points=\"29,-166.5 29,-212.5 287,-212.5 287,-166.5 29,-166.5\"/>\n<text text-anchor=\"middle\" x=\"93.5\" y=\"-185.8\" font-family=\"Times,serif\" font-size=\"14.00\">Conv2D_1: Conv2D</text>\n<polyline fill=\"none\" stroke=\"black\" points=\"158,-166.5 158,-212.5 \"/>\n<text text-anchor=\"middle\" x=\"185.5\" y=\"-197.3\" font-family=\"Times,serif\" font-size=\"14.00\">input:</text>\n<polyline fill=\"none\" stroke=\"black\" points=\"158,-189.5 213,-189.5 \"/>\n<text text-anchor=\"middle\" x=\"185.5\" y=\"-174.3\" font-family=\"Times,serif\" font-size=\"14.00\">output:</text>\n<polyline fill=\"none\" stroke=\"black\" points=\"213,-166.5 213,-212.5 \"/>\n<text text-anchor=\"middle\" x=\"250\" y=\"-197.3\" font-family=\"Times,serif\" font-size=\"14.00\">(?, 6, 6, 1)</text>\n<polyline fill=\"none\" stroke=\"black\" points=\"213,-189.5 287,-189.5 \"/>\n<text text-anchor=\"middle\" x=\"250\" y=\"-174.3\" font-family=\"Times,serif\" font-size=\"14.00\">(?, 6, 6, 3)</text>\n</g>\n<!-- 140592569230240&#45;&gt;140592569785312 -->\n<g id=\"edge1\" class=\"edge\">\n<title>140592569230240-&gt;140592569785312</title>\n<path fill=\"none\" stroke=\"black\" d=\"M158,-249.37C158,-241.15 158,-231.66 158,-222.73\"/>\n<polygon fill=\"black\" stroke=\"black\" points=\"161.5,-222.61 158,-212.61 154.5,-222.61 161.5,-222.61\"/>\n</g>\n<!-- 140592569785264 -->\n<g id=\"node3\" class=\"node\">\n<title>140592569785264</title>\n<polygon fill=\"none\" stroke=\"black\" points=\"37,-83.5 37,-129.5 279,-129.5 279,-83.5 37,-83.5\"/>\n<text text-anchor=\"middle\" x=\"93.5\" y=\"-102.8\" font-family=\"Times,serif\" font-size=\"14.00\">Flatten_1: Flatten</text>\n<polyline fill=\"none\" stroke=\"black\" points=\"150,-83.5 150,-129.5 \"/>\n<text text-anchor=\"middle\" x=\"177.5\" y=\"-114.3\" font-family=\"Times,serif\" font-size=\"14.00\">input:</text>\n<polyline fill=\"none\" stroke=\"black\" points=\"150,-106.5 205,-106.5 \"/>\n<text text-anchor=\"middle\" x=\"177.5\" y=\"-91.3\" font-family=\"Times,serif\" font-size=\"14.00\">output:</text>\n<polyline fill=\"none\" stroke=\"black\" points=\"205,-83.5 205,-129.5 \"/>\n<text text-anchor=\"middle\" x=\"242\" y=\"-114.3\" font-family=\"Times,serif\" font-size=\"14.00\">(?, 6, 6, 3)</text>\n<polyline fill=\"none\" stroke=\"black\" points=\"205,-106.5 279,-106.5 \"/>\n<text text-anchor=\"middle\" x=\"242\" y=\"-91.3\" font-family=\"Times,serif\" font-size=\"14.00\">(?, 108)</text>\n</g>\n<!-- 140592569785312&#45;&gt;140592569785264 -->\n<g id=\"edge2\" class=\"edge\">\n<title>140592569785312-&gt;140592569785264</title>\n<path fill=\"none\" stroke=\"black\" d=\"M158,-166.37C158,-158.15 158,-148.66 158,-139.73\"/>\n<polygon fill=\"black\" stroke=\"black\" points=\"161.5,-139.61 158,-129.61 154.5,-139.61 161.5,-139.61\"/>\n</g>\n<!-- 140592569233072 -->\n<g id=\"node4\" class=\"node\">\n<title>140592569233072</title>\n<polygon fill=\"none\" stroke=\"black\" points=\"48.5,-0.5 48.5,-46.5 267.5,-46.5 267.5,-0.5 48.5,-0.5\"/>\n<text text-anchor=\"middle\" x=\"101\" y=\"-19.8\" font-family=\"Times,serif\" font-size=\"14.00\">Dense_1: Dense</text>\n<polyline fill=\"none\" stroke=\"black\" points=\"153.5,-0.5 153.5,-46.5 \"/>\n<text text-anchor=\"middle\" x=\"181\" y=\"-31.3\" font-family=\"Times,serif\" font-size=\"14.00\">input:</text>\n<polyline fill=\"none\" stroke=\"black\" points=\"153.5,-23.5 208.5,-23.5 \"/>\n<text text-anchor=\"middle\" x=\"181\" y=\"-8.3\" font-family=\"Times,serif\" font-size=\"14.00\">output:</text>\n<polyline fill=\"none\" stroke=\"black\" points=\"208.5,-0.5 208.5,-46.5 \"/>\n<text text-anchor=\"middle\" x=\"238\" y=\"-31.3\" font-family=\"Times,serif\" font-size=\"14.00\">(?, 108)</text>\n<polyline fill=\"none\" stroke=\"black\" points=\"208.5,-23.5 267.5,-23.5 \"/>\n<text text-anchor=\"middle\" x=\"238\" y=\"-8.3\" font-family=\"Times,serif\" font-size=\"14.00\">(?, 10)</text>\n</g>\n<!-- 140592569785264&#45;&gt;140592569233072 -->\n<g id=\"edge3\" class=\"edge\">\n<title>140592569785264-&gt;140592569233072</title>\n<path fill=\"none\" stroke=\"black\" d=\"M158,-83.37C158,-75.15 158,-65.66 158,-56.73\"/>\n<polygon fill=\"black\" stroke=\"black\" points=\"161.5,-56.61 158,-46.61 154.5,-56.61 161.5,-56.61\"/>\n</g>\n</g>\n</svg>"
     },
     "metadata": {},
     "execution_count": 4
    }
   ],
   "source": [
    "# coding: utf-8\n",
    "# 使用Conv2D的CNN範例\n",
    "\n",
    "# CNN Model 7 - Flatten and Dense\n",
    "# 匯入Keras與其他的函式庫\n",
    "from tensorflow.keras.models import Sequential, Model\n",
    "from tensorflow.keras.layers import Dense, Activation, Flatten, Conv2D\n",
    "from keras.utils import np_utils\n",
    "\n",
    "# 匯入顯示SVG時所需的函式庫\n",
    "from IPython.display import SVG\n",
    "from tensorflow.keras.utils import model_to_dot\n",
    "\n",
    "# 製作將卷積神經網路之輸出平展至1維給予全連接層的模型\n",
    "model = Sequential()\n",
    "model.add(Conv2D(filters=3, kernel_size=(3, 3), input_shape=(6, 6, 1), padding='same', name='Conv2D_1'))\n",
    "model.add(Flatten(name='Flatten_1'))\n",
    "model.add(Dense(units=10, activation='softmax', name='Dense_1'))\n",
    "\n",
    "# 以SVG格式顯示模型\n",
    "SVG(model_to_dot(model, show_shapes=True,dpi=70).create(prog='dot', format='svg'))"
   ]
  },
  {
   "cell_type": "code",
   "execution_count": null,
   "metadata": {},
   "outputs": [],
   "source": []
  }
 ]
}