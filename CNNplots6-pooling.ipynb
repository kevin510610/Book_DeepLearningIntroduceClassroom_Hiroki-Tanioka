{
 "metadata": {
  "language_info": {
   "codemirror_mode": {
    "name": "ipython",
    "version": 3
   },
   "file_extension": ".py",
   "mimetype": "text/x-python",
   "name": "python",
   "nbconvert_exporter": "python",
   "pygments_lexer": "ipython3",
   "version": "3.8.8"
  },
  "orig_nbformat": 2,
  "kernelspec": {
   "name": "python388jvsc74a57bd01be61a1583a2cb2b13e440a2aaa1981b12c2212d6adb327f2a8e80ed33dd9191",
   "display_name": "Python 3.8.8 64-bit ('datasci': conda)"
  }
 },
 "nbformat": 4,
 "nbformat_minor": 2,
 "cells": [
  {
   "cell_type": "code",
   "execution_count": 5,
   "metadata": {},
   "outputs": [
    {
     "output_type": "execute_result",
     "data": {
      "text/plain": [
       "<IPython.core.display.SVG object>"
      ],
      "image/svg+xml": "<svg xmlns=\"http://www.w3.org/2000/svg\" xmlns:xlink=\"http://www.w3.org/1999/xlink\" width=\"333pt\" height=\"215pt\" viewBox=\"0.00 0.00 343.00 221.00\">\n<g id=\"graph0\" class=\"graph\" transform=\"scale(0.97 0.97) rotate(0) translate(4 217)\">\n<title>G</title>\n<polygon fill=\"white\" stroke=\"transparent\" points=\"-4,4 -4,-217 339,-217 339,4 -4,4\"/>\n<!-- 140552841262128 -->\n<g id=\"node1\" class=\"node\">\n<title>140552841262128</title>\n<polygon fill=\"none\" stroke=\"black\" points=\"9.5,-166.5 9.5,-212.5 325.5,-212.5 325.5,-166.5 9.5,-166.5\"/>\n<text text-anchor=\"middle\" x=\"98.5\" y=\"-185.8\" font-family=\"Times,serif\" font-size=\"14.00\">Conv2D_1_input: InputLayer</text>\n<polyline fill=\"none\" stroke=\"black\" points=\"187.5,-166.5 187.5,-212.5 \"/>\n<text text-anchor=\"middle\" x=\"215\" y=\"-197.3\" font-family=\"Times,serif\" font-size=\"14.00\">input:</text>\n<polyline fill=\"none\" stroke=\"black\" points=\"187.5,-189.5 242.5,-189.5 \"/>\n<text text-anchor=\"middle\" x=\"215\" y=\"-174.3\" font-family=\"Times,serif\" font-size=\"14.00\">output:</text>\n<polyline fill=\"none\" stroke=\"black\" points=\"242.5,-166.5 242.5,-212.5 \"/>\n<text text-anchor=\"middle\" x=\"284\" y=\"-197.3\" font-family=\"Times,serif\" font-size=\"14.00\">[(?, 6, 6, 1)]</text>\n<polyline fill=\"none\" stroke=\"black\" points=\"242.5,-189.5 325.5,-189.5 \"/>\n<text text-anchor=\"middle\" x=\"284\" y=\"-174.3\" font-family=\"Times,serif\" font-size=\"14.00\">[(?, 6, 6, 1)]</text>\n</g>\n<!-- 140552841192064 -->\n<g id=\"node2\" class=\"node\">\n<title>140552841192064</title>\n<polygon fill=\"none\" stroke=\"black\" points=\"38.5,-83.5 38.5,-129.5 296.5,-129.5 296.5,-83.5 38.5,-83.5\"/>\n<text text-anchor=\"middle\" x=\"103\" y=\"-102.8\" font-family=\"Times,serif\" font-size=\"14.00\">Conv2D_1: Conv2D</text>\n<polyline fill=\"none\" stroke=\"black\" points=\"167.5,-83.5 167.5,-129.5 \"/>\n<text text-anchor=\"middle\" x=\"195\" y=\"-114.3\" font-family=\"Times,serif\" font-size=\"14.00\">input:</text>\n<polyline fill=\"none\" stroke=\"black\" points=\"167.5,-106.5 222.5,-106.5 \"/>\n<text text-anchor=\"middle\" x=\"195\" y=\"-91.3\" font-family=\"Times,serif\" font-size=\"14.00\">output:</text>\n<polyline fill=\"none\" stroke=\"black\" points=\"222.5,-83.5 222.5,-129.5 \"/>\n<text text-anchor=\"middle\" x=\"259.5\" y=\"-114.3\" font-family=\"Times,serif\" font-size=\"14.00\">(?, 6, 6, 1)</text>\n<polyline fill=\"none\" stroke=\"black\" points=\"222.5,-106.5 296.5,-106.5 \"/>\n<text text-anchor=\"middle\" x=\"259.5\" y=\"-91.3\" font-family=\"Times,serif\" font-size=\"14.00\">(?, 6, 6, 3)</text>\n</g>\n<!-- 140552841262128&#45;&gt;140552841192064 -->\n<g id=\"edge1\" class=\"edge\">\n<title>140552841262128-&gt;140552841192064</title>\n<path fill=\"none\" stroke=\"black\" d=\"M167.5,-166.37C167.5,-158.15 167.5,-148.66 167.5,-139.73\"/>\n<polygon fill=\"black\" stroke=\"black\" points=\"171,-139.61 167.5,-129.61 164,-139.61 171,-139.61\"/>\n</g>\n<!-- 140552307072976 -->\n<g id=\"node3\" class=\"node\">\n<title>140552307072976</title>\n<polygon fill=\"none\" stroke=\"black\" points=\"0,-0.5 0,-46.5 335,-46.5 335,-0.5 0,-0.5\"/>\n<text text-anchor=\"middle\" x=\"103\" y=\"-19.8\" font-family=\"Times,serif\" font-size=\"14.00\">MaxPooling2D_1: MaxPooling2D</text>\n<polyline fill=\"none\" stroke=\"black\" points=\"206,-0.5 206,-46.5 \"/>\n<text text-anchor=\"middle\" x=\"233.5\" y=\"-31.3\" font-family=\"Times,serif\" font-size=\"14.00\">input:</text>\n<polyline fill=\"none\" stroke=\"black\" points=\"206,-23.5 261,-23.5 \"/>\n<text text-anchor=\"middle\" x=\"233.5\" y=\"-8.3\" font-family=\"Times,serif\" font-size=\"14.00\">output:</text>\n<polyline fill=\"none\" stroke=\"black\" points=\"261,-0.5 261,-46.5 \"/>\n<text text-anchor=\"middle\" x=\"298\" y=\"-31.3\" font-family=\"Times,serif\" font-size=\"14.00\">(?, 6, 6, 3)</text>\n<polyline fill=\"none\" stroke=\"black\" points=\"261,-23.5 335,-23.5 \"/>\n<text text-anchor=\"middle\" x=\"298\" y=\"-8.3\" font-family=\"Times,serif\" font-size=\"14.00\">(?, 3, 3, 3)</text>\n</g>\n<!-- 140552841192064&#45;&gt;140552307072976 -->\n<g id=\"edge2\" class=\"edge\">\n<title>140552841192064-&gt;140552307072976</title>\n<path fill=\"none\" stroke=\"black\" d=\"M167.5,-83.37C167.5,-75.15 167.5,-65.66 167.5,-56.73\"/>\n<polygon fill=\"black\" stroke=\"black\" points=\"171,-56.61 167.5,-46.61 164,-56.61 171,-56.61\"/>\n</g>\n</g>\n</svg>"
     },
     "metadata": {},
     "execution_count": 5
    }
   ],
   "source": [
    "# coding: utf-8\n",
    "# 使用Conv2D的CNN範例\n",
    "\n",
    "# CNN Model 6 - Pooling\n",
    "# 匯入Keras與其他的函式庫\n",
    "from tensorflow.keras.models import Sequential, Model\n",
    "from tensorflow.keras.layers import Conv2D, MaxPooling2D\n",
    "from keras.utils import np_utils\n",
    "\n",
    "# 匯入顯示SVG時所需的函式庫\n",
    "from IPython.display import SVG\n",
    "from tensorflow.keras.utils import model_to_dot\n",
    "\n",
    "# 製作池化層的卷積神經網路模型\n",
    "model = Sequential()\n",
    "model.add(Conv2D(filters=3, kernel_size=(3, 3), input_shape=(6, 6, 1), padding='same', name='Conv2D_1'))\n",
    "model.add(MaxPooling2D(pool_size=(2, 2), name='MaxPooling2D_1'))\n",
    "\n",
    "# 以SVG格式顯示模型\n",
    "SVG(model_to_dot(model, show_shapes=True,dpi=70).create(prog='dot', format='svg'))"
   ]
  },
  {
   "cell_type": "code",
   "execution_count": null,
   "metadata": {},
   "outputs": [],
   "source": []
  }
 ]
}