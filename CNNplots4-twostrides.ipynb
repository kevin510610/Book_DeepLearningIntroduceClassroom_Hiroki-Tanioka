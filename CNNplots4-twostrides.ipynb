{
 "metadata": {
  "language_info": {
   "codemirror_mode": {
    "name": "ipython",
    "version": 3
   },
   "file_extension": ".py",
   "mimetype": "text/x-python",
   "name": "python",
   "nbconvert_exporter": "python",
   "pygments_lexer": "ipython3",
   "version": "3.8.8"
  },
  "orig_nbformat": 2,
  "kernelspec": {
   "name": "python388jvsc74a57bd01be61a1583a2cb2b13e440a2aaa1981b12c2212d6adb327f2a8e80ed33dd9191",
   "display_name": "Python 3.8.8 64-bit ('datasci': conda)"
  }
 },
 "nbformat": 4,
 "nbformat_minor": 2,
 "cells": [
  {
   "cell_type": "code",
   "execution_count": 2,
   "metadata": {},
   "outputs": [
    {
     "output_type": "execute_result",
     "data": {
      "text/plain": [
       "<IPython.core.display.SVG object>"
      ],
      "image/svg+xml": "<svg xmlns=\"http://www.w3.org/2000/svg\" xmlns:xlink=\"http://www.w3.org/1999/xlink\" width=\"315pt\" height=\"134pt\" viewBox=\"0.00 0.00 324.00 138.00\">\n<g id=\"graph0\" class=\"graph\" transform=\"scale(0.97 0.97) rotate(0) translate(4 134)\">\n<title>G</title>\n<polygon fill=\"white\" stroke=\"transparent\" points=\"-4,4 -4,-134 320,-134 320,4 -4,4\"/>\n<!-- 140689710153344 -->\n<g id=\"node1\" class=\"node\">\n<title>140689710153344</title>\n<polygon fill=\"none\" stroke=\"black\" points=\"0,-83.5 0,-129.5 316,-129.5 316,-83.5 0,-83.5\"/>\n<text text-anchor=\"middle\" x=\"89\" y=\"-102.8\" font-family=\"Times,serif\" font-size=\"14.00\">Conv2D_1_input: InputLayer</text>\n<polyline fill=\"none\" stroke=\"black\" points=\"178,-83.5 178,-129.5 \"/>\n<text text-anchor=\"middle\" x=\"205.5\" y=\"-114.3\" font-family=\"Times,serif\" font-size=\"14.00\">input:</text>\n<polyline fill=\"none\" stroke=\"black\" points=\"178,-106.5 233,-106.5 \"/>\n<text text-anchor=\"middle\" x=\"205.5\" y=\"-91.3\" font-family=\"Times,serif\" font-size=\"14.00\">output:</text>\n<polyline fill=\"none\" stroke=\"black\" points=\"233,-83.5 233,-129.5 \"/>\n<text text-anchor=\"middle\" x=\"274.5\" y=\"-114.3\" font-family=\"Times,serif\" font-size=\"14.00\">[(?, 6, 6, 1)]</text>\n<polyline fill=\"none\" stroke=\"black\" points=\"233,-106.5 316,-106.5 \"/>\n<text text-anchor=\"middle\" x=\"274.5\" y=\"-91.3\" font-family=\"Times,serif\" font-size=\"14.00\">[(?, 6, 6, 1)]</text>\n</g>\n<!-- 140689710131904 -->\n<g id=\"node2\" class=\"node\">\n<title>140689710131904</title>\n<polygon fill=\"none\" stroke=\"black\" points=\"29,-0.5 29,-46.5 287,-46.5 287,-0.5 29,-0.5\"/>\n<text text-anchor=\"middle\" x=\"93.5\" y=\"-19.8\" font-family=\"Times,serif\" font-size=\"14.00\">Conv2D_1: Conv2D</text>\n<polyline fill=\"none\" stroke=\"black\" points=\"158,-0.5 158,-46.5 \"/>\n<text text-anchor=\"middle\" x=\"185.5\" y=\"-31.3\" font-family=\"Times,serif\" font-size=\"14.00\">input:</text>\n<polyline fill=\"none\" stroke=\"black\" points=\"158,-23.5 213,-23.5 \"/>\n<text text-anchor=\"middle\" x=\"185.5\" y=\"-8.3\" font-family=\"Times,serif\" font-size=\"14.00\">output:</text>\n<polyline fill=\"none\" stroke=\"black\" points=\"213,-0.5 213,-46.5 \"/>\n<text text-anchor=\"middle\" x=\"250\" y=\"-31.3\" font-family=\"Times,serif\" font-size=\"14.00\">(?, 6, 6, 1)</text>\n<polyline fill=\"none\" stroke=\"black\" points=\"213,-23.5 287,-23.5 \"/>\n<text text-anchor=\"middle\" x=\"250\" y=\"-8.3\" font-family=\"Times,serif\" font-size=\"14.00\">(?, 2, 2, 3)</text>\n</g>\n<!-- 140689710153344&#45;&gt;140689710131904 -->\n<g id=\"edge1\" class=\"edge\">\n<title>140689710153344-&gt;140689710131904</title>\n<path fill=\"none\" stroke=\"black\" d=\"M158,-83.37C158,-75.15 158,-65.66 158,-56.73\"/>\n<polygon fill=\"black\" stroke=\"black\" points=\"161.5,-56.61 158,-46.61 154.5,-56.61 161.5,-56.61\"/>\n</g>\n</g>\n</svg>"
     },
     "metadata": {},
     "execution_count": 2
    }
   ],
   "source": [
    "# coding: utf-8\n",
    "# 使用Conv2D的CNN範例\n",
    "\n",
    "# CNN Model 4 - two strides\n",
    "# 匯入Keras與其他的函式庫\n",
    "from tensorflow.keras.models import Sequential, Model\n",
    "from tensorflow.keras.layers import Conv2D\n",
    "from keras.utils import np_utils\n",
    "\n",
    "# 匯入顯示SVG時所需的函式庫\n",
    "from IPython.display import SVG\n",
    "from tensorflow.keras.utils import model_to_dot\n",
    "\n",
    "# 製作步幅為2的卷積神經網路模型\n",
    "model = Sequential()\n",
    "model.add(Conv2D(filters=3, kernel_size=(3, 3), input_shape=(6, 6, 1), strides=2, name='Conv2D_1'))\n",
    "\n",
    "# 以SVG格式顯示模型\n",
    "SVG(model_to_dot(model, show_shapes=True,dpi=70).create(prog='dot', format='svg'))"
   ]
  },
  {
   "cell_type": "code",
   "execution_count": null,
   "metadata": {},
   "outputs": [],
   "source": []
  }
 ]
}