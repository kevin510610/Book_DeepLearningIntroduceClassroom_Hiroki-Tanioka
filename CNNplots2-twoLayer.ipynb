{
 "metadata": {
  "language_info": {
   "codemirror_mode": {
    "name": "ipython",
    "version": 3
   },
   "file_extension": ".py",
   "mimetype": "text/x-python",
   "name": "python",
   "nbconvert_exporter": "python",
   "pygments_lexer": "ipython3",
   "version": "3.8.8"
  },
  "orig_nbformat": 2,
  "kernelspec": {
   "name": "python388jvsc74a57bd01be61a1583a2cb2b13e440a2aaa1981b12c2212d6adb327f2a8e80ed33dd9191",
   "display_name": "Python 3.8.8 64-bit ('datasci': conda)"
  }
 },
 "nbformat": 4,
 "nbformat_minor": 2,
 "cells": [
  {
   "cell_type": "code",
   "execution_count": 2,
   "metadata": {},
   "outputs": [
    {
     "output_type": "stream",
     "name": "stdout",
     "text": [
      "Model: \"sequential_1\"\n_________________________________________________________________\nLayer (type)                 Output Shape              Param #   \n=================================================================\nConv2D (Conv2D)              (None, 4, 4, 3)           30        \n_________________________________________________________________\nConv2D_1 (Conv2D)            (None, 2, 2, 2)           56        \n=================================================================\nTotal params: 86\nTrainable params: 86\nNon-trainable params: 0\n_________________________________________________________________\n"
     ]
    },
    {
     "output_type": "execute_result",
     "data": {
      "text/plain": [
       "<IPython.core.display.SVG object>"
      ],
      "image/svg+xml": "<svg xmlns=\"http://www.w3.org/2000/svg\" xmlns:xlink=\"http://www.w3.org/1999/xlink\" width=\"301pt\" height=\"215pt\" viewBox=\"0.00 0.00 310.00 221.00\">\n<g id=\"graph0\" class=\"graph\" transform=\"scale(0.97 0.97) rotate(0) translate(4 217)\">\n<title>G</title>\n<polygon fill=\"white\" stroke=\"transparent\" points=\"-4,4 -4,-217 306,-217 306,4 -4,4\"/>\n<!-- 140287163894176 -->\n<g id=\"node1\" class=\"node\">\n<title>140287163894176</title>\n<polygon fill=\"none\" stroke=\"black\" points=\"0,-166.5 0,-212.5 302,-212.5 302,-166.5 0,-166.5\"/>\n<text text-anchor=\"middle\" x=\"82\" y=\"-185.8\" font-family=\"Times,serif\" font-size=\"14.00\">Conv2D_input: InputLayer</text>\n<polyline fill=\"none\" stroke=\"black\" points=\"164,-166.5 164,-212.5 \"/>\n<text text-anchor=\"middle\" x=\"191.5\" y=\"-197.3\" font-family=\"Times,serif\" font-size=\"14.00\">input:</text>\n<polyline fill=\"none\" stroke=\"black\" points=\"164,-189.5 219,-189.5 \"/>\n<text text-anchor=\"middle\" x=\"191.5\" y=\"-174.3\" font-family=\"Times,serif\" font-size=\"14.00\">output:</text>\n<polyline fill=\"none\" stroke=\"black\" points=\"219,-166.5 219,-212.5 \"/>\n<text text-anchor=\"middle\" x=\"260.5\" y=\"-197.3\" font-family=\"Times,serif\" font-size=\"14.00\">[(?, 6, 6, 1)]</text>\n<polyline fill=\"none\" stroke=\"black\" points=\"219,-189.5 302,-189.5 \"/>\n<text text-anchor=\"middle\" x=\"260.5\" y=\"-174.3\" font-family=\"Times,serif\" font-size=\"14.00\">[(?, 6, 6, 1)]</text>\n</g>\n<!-- 140287163892640 -->\n<g id=\"node2\" class=\"node\">\n<title>140287163892640</title>\n<polygon fill=\"none\" stroke=\"black\" points=\"28.5,-83.5 28.5,-129.5 273.5,-129.5 273.5,-83.5 28.5,-83.5\"/>\n<text text-anchor=\"middle\" x=\"86.5\" y=\"-102.8\" font-family=\"Times,serif\" font-size=\"14.00\">Conv2D: Conv2D</text>\n<polyline fill=\"none\" stroke=\"black\" points=\"144.5,-83.5 144.5,-129.5 \"/>\n<text text-anchor=\"middle\" x=\"172\" y=\"-114.3\" font-family=\"Times,serif\" font-size=\"14.00\">input:</text>\n<polyline fill=\"none\" stroke=\"black\" points=\"144.5,-106.5 199.5,-106.5 \"/>\n<text text-anchor=\"middle\" x=\"172\" y=\"-91.3\" font-family=\"Times,serif\" font-size=\"14.00\">output:</text>\n<polyline fill=\"none\" stroke=\"black\" points=\"199.5,-83.5 199.5,-129.5 \"/>\n<text text-anchor=\"middle\" x=\"236.5\" y=\"-114.3\" font-family=\"Times,serif\" font-size=\"14.00\">(?, 6, 6, 1)</text>\n<polyline fill=\"none\" stroke=\"black\" points=\"199.5,-106.5 273.5,-106.5 \"/>\n<text text-anchor=\"middle\" x=\"236.5\" y=\"-91.3\" font-family=\"Times,serif\" font-size=\"14.00\">(?, 4, 4, 3)</text>\n</g>\n<!-- 140287163894176&#45;&gt;140287163892640 -->\n<g id=\"edge1\" class=\"edge\">\n<title>140287163894176-&gt;140287163892640</title>\n<path fill=\"none\" stroke=\"black\" d=\"M151,-166.37C151,-158.15 151,-148.66 151,-139.73\"/>\n<polygon fill=\"black\" stroke=\"black\" points=\"154.5,-139.61 151,-129.61 147.5,-139.61 154.5,-139.61\"/>\n</g>\n<!-- 140287163895040 -->\n<g id=\"node3\" class=\"node\">\n<title>140287163895040</title>\n<polygon fill=\"none\" stroke=\"black\" points=\"22,-0.5 22,-46.5 280,-46.5 280,-0.5 22,-0.5\"/>\n<text text-anchor=\"middle\" x=\"86.5\" y=\"-19.8\" font-family=\"Times,serif\" font-size=\"14.00\">Conv2D_1: Conv2D</text>\n<polyline fill=\"none\" stroke=\"black\" points=\"151,-0.5 151,-46.5 \"/>\n<text text-anchor=\"middle\" x=\"178.5\" y=\"-31.3\" font-family=\"Times,serif\" font-size=\"14.00\">input:</text>\n<polyline fill=\"none\" stroke=\"black\" points=\"151,-23.5 206,-23.5 \"/>\n<text text-anchor=\"middle\" x=\"178.5\" y=\"-8.3\" font-family=\"Times,serif\" font-size=\"14.00\">output:</text>\n<polyline fill=\"none\" stroke=\"black\" points=\"206,-0.5 206,-46.5 \"/>\n<text text-anchor=\"middle\" x=\"243\" y=\"-31.3\" font-family=\"Times,serif\" font-size=\"14.00\">(?, 4, 4, 3)</text>\n<polyline fill=\"none\" stroke=\"black\" points=\"206,-23.5 280,-23.5 \"/>\n<text text-anchor=\"middle\" x=\"243\" y=\"-8.3\" font-family=\"Times,serif\" font-size=\"14.00\">(?, 2, 2, 2)</text>\n</g>\n<!-- 140287163892640&#45;&gt;140287163895040 -->\n<g id=\"edge2\" class=\"edge\">\n<title>140287163892640-&gt;140287163895040</title>\n<path fill=\"none\" stroke=\"black\" d=\"M151,-83.37C151,-75.15 151,-65.66 151,-56.73\"/>\n<polygon fill=\"black\" stroke=\"black\" points=\"154.5,-56.61 151,-46.61 147.5,-56.61 154.5,-56.61\"/>\n</g>\n</g>\n</svg>"
     },
     "metadata": {},
     "execution_count": 2
    }
   ],
   "source": [
    "# coding: utf-8\n",
    "# 使用Conv2D的CNN範例\n",
    "\n",
    "# CNN Model 2 - two layers\n",
    "# 匯入Keras與其他的函式庫\n",
    "from tensorflow.keras.models import Sequential, Model\n",
    "from tensorflow.keras.layers import Conv2D\n",
    "from keras.utils import np_utils\n",
    "\n",
    "# 匯入顯示SVG時所需的函式庫\n",
    "from IPython.display import SVG\n",
    "from tensorflow.keras.utils import model_to_dot\n",
    "\n",
    "# 製作2層的卷積神經網路模型\n",
    "model = Sequential()\n",
    "model.add(Conv2D(filters=3, kernel_size=(3, 3), input_shape=(6, 6, 1), name='Conv2D'))\n",
    "model.add(Conv2D(filters=2, kernel_size=(3, 3), name='Conv2D_1'))\n",
    "model.summary()\n",
    "# 以SVG格式顯示模型\n",
    "SVG(model_to_dot(model, show_shapes=True,dpi=70).create(prog='dot', format='svg'))"
   ]
  },
  {
   "cell_type": "code",
   "execution_count": null,
   "metadata": {},
   "outputs": [],
   "source": []
  }
 ]
}